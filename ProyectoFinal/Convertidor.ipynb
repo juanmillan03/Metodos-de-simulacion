{
 "cells": [
  {
   "cell_type": "code",
   "execution_count": 8,
   "metadata": {},
   "outputs": [],
   "source": [
    "from sympy import symbols\n",
    "from sympy.physics.units import meter, second, kilogram, Quantity\n"
   ]
  },
  {
   "cell_type": "code",
   "execution_count": 11,
   "metadata": {},
   "outputs": [
    {
     "name": "stdout",
     "output_type": "stream",
     "text": [
      "2000*celda\n",
      "Resolución: meter/(100*celda)\n",
      "Landa_simulado: 100*celda/meter\n",
      "T_simulacion: 100, T_real: 0.00166666666666667*second/celda\n"
     ]
    }
   ],
   "source": [
    "C = 0.5\n",
    "C_real = 300 * meter / second\n",
    "recintox = 20 * meter\n",
    "recintoy = 30 * meter\n",
    "recintoz = 10 * meter\n",
    "lx=2000\n",
    "celda= Quantity('celda', recintox/lx)\n",
    "lx = 2000 * celda\n",
    "print(lx)\n",
    "reslucion = recintox/lx\n",
    "print(f\"Resolución: {reslucion}\")\n",
    "ly = lx / recintox * recintoy\n",
    "lz = 1 / reslucion * recintoz\n",
    "landa_R = 1\n",
    "landa_simulado = landa_R / reslucion\n",
    "print(f\"Landa_simulado: {landa_simulado}\")\n",
    "T_simulacion = 100\n",
    "T_real = T_simulacion / (C_real / (reslucion * C))\n",
    "print(f\"T_simulacion: {T_simulacion}, T_real: {T_real}\")"
   ]
  }
 ],
 "metadata": {
  "kernelspec": {
   "display_name": "Python 3",
   "language": "python",
   "name": "python3"
  },
  "language_info": {
   "codemirror_mode": {
    "name": "ipython",
    "version": 3
   },
   "file_extension": ".py",
   "mimetype": "text/x-python",
   "name": "python",
   "nbconvert_exporter": "python",
   "pygments_lexer": "ipython3",
   "version": "3.10.12"
  }
 },
 "nbformat": 4,
 "nbformat_minor": 2
}
