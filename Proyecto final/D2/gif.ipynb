{
 "cells": [
  {
   "cell_type": "code",
   "execution_count": 9,
   "metadata": {},
   "outputs": [
    {
     "name": "stderr",
     "output_type": "stream",
     "text": [
      "/tmp/ipykernel_12890/1746703232.py:44: DeprecationWarning: Starting with ImageIO v3 the behavior of this function will switch to that of iio.v3.imread. To keep the current behavior (and make this warning disappear) use `import imageio.v2 as imageio` or call `imageio.v2.imread` directly.\n",
      "  images.append(imageio.imread(temp_filename))\n"
     ]
    },
    {
     "name": "stdout",
     "output_type": "stream",
     "text": [
      "GIF creado exitosamente como 'evolucion_sistema.gif'\n"
     ]
    }
   ],
   "source": [
    "import numpy as np\n",
    "import matplotlib.pyplot as plt\n",
    "import imageio\n",
    "import glob\n",
    "import os\n",
    "\n",
    "# Lista de archivos .txt en el directorio actual (asegúrate de que los nombres sigan un patrón)\n",
    "file_list = sorted(glob.glob( \"Ondas_t*.txt\"))\n",
    "# Verificar que se encontraron archivos\n",
    "if not file_list:\n",
    "    raise ValueError(\"No se encontraron archivos .txt que coincidan con el patrón.\")\n",
    "\n",
    "# Crear una lista para almacenar las imágenes\n",
    "images = []\n",
    "\n",
    "presion_min, presion_max = -1, 1  # Rango para la presión (eje de color)\n",
    "\n",
    "# Loop sobre cada archivo y generar un gráfico\n",
    "for filename in file_list:\n",
    "    # Leer los datos\n",
    "    data = np.loadtxt(filename)\n",
    "    \n",
    "    # Asignar las columnas a variables\n",
    "    x = data[:, 0]\n",
    "    y = data[:, 1]\n",
    "    presion = data[:, 2]\n",
    "    \n",
    "    # Crear la figura\n",
    "    plt.figure(figsize=(10, 6))\n",
    "    scatter = plt.scatter(x, y, c=presion, cmap='viridis', vmin=presion_min, vmax=presion_max)\n",
    "    plt.colorbar(scatter, label='Presión')\n",
    "  \n",
    "    plt.xlabel('x')\n",
    "    plt.ylabel('y')\n",
    "    plt.title(f'Evolución del sistema - {filename}')\n",
    "    plt.grid(True)\n",
    "    \n",
    "    # Guardar la imagen temporalmente\n",
    "    temp_filename = f\"temp_{os.path.splitext(os.path.basename(filename))[0]}.png\"\n",
    "    plt.savefig(temp_filename)\n",
    "    plt.close()\n",
    "    \n",
    "    # Leer la imagen y agregarla a la lista\n",
    "    images.append(imageio.imread(temp_filename))\n",
    "\n",
    "# Verificar que se generaron imágenes\n",
    "if not images:\n",
    "    raise ValueError(\"No se generaron imágenes para crear el GIF.\")\n",
    "\n",
    "# Crear el GIF\n",
    "imageio.mimsave('evolucion_sistema.gif', images, duration=0.5)\n",
    "\n",
    "# Eliminar archivos temporales\n",
    "for temp_file in glob.glob(\"temp_*.png\"):\n",
    "    os.remove(temp_file)\n",
    "\n",
    "print(\"GIF creado exitosamente como 'evolucion_sistema.gif'\")\n"
   ]
  }
 ],
 "metadata": {
  "kernelspec": {
   "display_name": "Python 3",
   "language": "python",
   "name": "python3"
  },
  "language_info": {
   "codemirror_mode": {
    "name": "ipython",
    "version": 3
   },
   "file_extension": ".py",
   "mimetype": "text/x-python",
   "name": "python",
   "nbconvert_exporter": "python",
   "pygments_lexer": "ipython3",
   "version": "3.10.12"
  }
 },
 "nbformat": 4,
 "nbformat_minor": 2
}
